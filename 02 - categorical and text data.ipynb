{
 "cells": [
  {
   "cell_type": "code",
   "execution_count": 2,
   "metadata": {},
   "outputs": [],
   "source": [
    "import pandas as pd"
   ]
  },
  {
   "cell_type": "code",
   "execution_count": 3,
   "metadata": {},
   "outputs": [
    {
     "data": {
      "text/html": [
       "<div>\n",
       "<style scoped>\n",
       "    .dataframe tbody tr th:only-of-type {\n",
       "        vertical-align: middle;\n",
       "    }\n",
       "\n",
       "    .dataframe tbody tr th {\n",
       "        vertical-align: top;\n",
       "    }\n",
       "\n",
       "    .dataframe thead th {\n",
       "        text-align: right;\n",
       "    }\n",
       "</style>\n",
       "<table border=\"1\" class=\"dataframe\">\n",
       "  <thead>\n",
       "    <tr style=\"text-align: right;\">\n",
       "      <th></th>\n",
       "      <th>cloudy</th>\n",
       "      <th>foggy</th>\n",
       "      <th>rainy</th>\n",
       "      <th>snowy</th>\n",
       "      <th>sunny</th>\n",
       "    </tr>\n",
       "  </thead>\n",
       "  <tbody>\n",
       "    <tr>\n",
       "      <th>0</th>\n",
       "      <td>0</td>\n",
       "      <td>0</td>\n",
       "      <td>0</td>\n",
       "      <td>0</td>\n",
       "      <td>1</td>\n",
       "    </tr>\n",
       "    <tr>\n",
       "      <th>1</th>\n",
       "      <td>1</td>\n",
       "      <td>0</td>\n",
       "      <td>0</td>\n",
       "      <td>0</td>\n",
       "      <td>0</td>\n",
       "    </tr>\n",
       "    <tr>\n",
       "      <th>2</th>\n",
       "      <td>0</td>\n",
       "      <td>0</td>\n",
       "      <td>0</td>\n",
       "      <td>1</td>\n",
       "      <td>0</td>\n",
       "    </tr>\n",
       "    <tr>\n",
       "      <th>3</th>\n",
       "      <td>0</td>\n",
       "      <td>0</td>\n",
       "      <td>1</td>\n",
       "      <td>0</td>\n",
       "      <td>0</td>\n",
       "    </tr>\n",
       "    <tr>\n",
       "      <th>4</th>\n",
       "      <td>0</td>\n",
       "      <td>1</td>\n",
       "      <td>0</td>\n",
       "      <td>0</td>\n",
       "      <td>0</td>\n",
       "    </tr>\n",
       "  </tbody>\n",
       "</table>\n",
       "</div>"
      ],
      "text/plain": [
       "   cloudy  foggy  rainy  snowy  sunny\n",
       "0       0      0      0      0      1\n",
       "1       1      0      0      0      0\n",
       "2       0      0      0      1      0\n",
       "3       0      0      1      0      0\n",
       "4       0      1      0      0      0"
      ]
     },
     "execution_count": 3,
     "metadata": {},
     "output_type": "execute_result"
    }
   ],
   "source": [
    "categorical_feature = pd.Series(['sunny', 'cloudy', 'snowy','rainy','foggy'])\n",
    "mapping = pd.get_dummies(categorical_feature)\n",
    "mapping"
   ]
  },
  {
   "cell_type": "code",
   "execution_count": 5,
   "metadata": {},
   "outputs": [
    {
     "data": {
      "text/plain": [
       "0    1\n",
       "1    0\n",
       "2    0\n",
       "3    0\n",
       "4    0\n",
       "Name: sunny, dtype: uint8"
      ]
     },
     "execution_count": 5,
     "metadata": {},
     "output_type": "execute_result"
    }
   ],
   "source": [
    "mapping['sunny']"
   ]
  },
  {
   "cell_type": "code",
   "execution_count": 6,
   "metadata": {},
   "outputs": [
    {
     "name": "stdout",
     "output_type": "stream",
     "text": [
      "[[ 0.  0.  0.  0.  1.]]\n"
     ]
    }
   ],
   "source": [
    "from sklearn.preprocessing import OneHotEncoder\n",
    "from sklearn.preprocessing import LabelEncoder\n",
    "\n",
    "le = LabelEncoder()\n",
    "ohe = OneHotEncoder()\n",
    "levels = ['sunny', 'cloudy', 'snowy','rainy','foggy']\n",
    "fit_levs = le.fit_transform(levels)\n",
    "ohe.fit([[fit_levs[0]], [fit_levs[1]], [fit_levs[2]], [fit_levs[3]], [fit_levs[4]]])\n",
    "\n",
    "print(ohe.transform([le.transform(['sunny'])]).toarray())"
   ]
  },
  {
   "cell_type": "markdown",
   "metadata": {},
   "source": [
    "## Text processing"
   ]
  },
  {
   "cell_type": "code",
   "execution_count": 7,
   "metadata": {},
   "outputs": [
    {
     "name": "stderr",
     "output_type": "stream",
     "text": [
      "Downloading 20news dataset. This may take a few minutes.\n",
      "Downloading dataset from https://ndownloader.figshare.com/files/5975967 (14 MB)\n"
     ]
    }
   ],
   "source": [
    "from sklearn.datasets import fetch_20newsgroups\n",
    "categories = ['sci.med', 'sci.space']\n",
    "twenty_sci_news = fetch_20newsgroups(categories=categories)"
   ]
  },
  {
   "cell_type": "code",
   "execution_count": 8,
   "metadata": {},
   "outputs": [
    {
     "name": "stdout",
     "output_type": "stream",
     "text": [
      "From: flb@flb.optiplan.fi (\"F.Baube[tm]\")\n",
      "Subject: Vandalizing the sky\n",
      "X-Added: Forwarded by Space Digest\n",
      "Organization: [via International Space University]\n",
      "Original-Sender: isu@VACATION.VENARI.CS.CMU.EDU\n",
      "Distribution: sci\n",
      "Lines: 12\n",
      "\n",
      "From: \"Phil G. Fraering\" <pgf@srl03.cacs.usl.edu>\n",
      "> \n",
      "> Finally: this isn't the Bronze Age, [..]\n",
      "> please try to remember that there are more human activities than\n",
      "> those practiced by the Warrior Caste, the Farming Caste, and the\n",
      "> Priesthood.\n",
      "\n",
      "Right, the Profiting Caste is blessed by God, and may \n",
      " freely blare its presence in the evening twilight ..\n",
      "\n",
      "-- \n",
      "* Fred Baube (tm)\n",
      "\n"
     ]
    }
   ],
   "source": [
    "print(twenty_sci_news.data[0])"
   ]
  },
  {
   "cell_type": "code",
   "execution_count": 9,
   "metadata": {},
   "outputs": [
    {
     "data": {
      "text/plain": [
       "array([ 'C:\\\\Users\\\\eslem\\\\scikit_learn_data\\\\20news_home\\\\20news-bydate-train\\\\sci.space\\\\61116',\n",
       "       'C:\\\\Users\\\\eslem\\\\scikit_learn_data\\\\20news_home\\\\20news-bydate-train\\\\sci.med\\\\58122',\n",
       "       'C:\\\\Users\\\\eslem\\\\scikit_learn_data\\\\20news_home\\\\20news-bydate-train\\\\sci.med\\\\58903',\n",
       "       ...,\n",
       "       'C:\\\\Users\\\\eslem\\\\scikit_learn_data\\\\20news_home\\\\20news-bydate-train\\\\sci.space\\\\60774',\n",
       "       'C:\\\\Users\\\\eslem\\\\scikit_learn_data\\\\20news_home\\\\20news-bydate-train\\\\sci.space\\\\60954',\n",
       "       'C:\\\\Users\\\\eslem\\\\scikit_learn_data\\\\20news_home\\\\20news-bydate-train\\\\sci.med\\\\58911'],\n",
       "      dtype='<U95')"
      ]
     },
     "execution_count": 9,
     "metadata": {},
     "output_type": "execute_result"
    }
   ],
   "source": [
    "twenty_sci_news.filenames"
   ]
  },
  {
   "cell_type": "code",
   "execution_count": 10,
   "metadata": {},
   "outputs": [
    {
     "data": {
      "text/plain": [
       "1"
      ]
     },
     "execution_count": 10,
     "metadata": {},
     "output_type": "execute_result"
    }
   ],
   "source": [
    "twenty_sci_news.target[0]"
   ]
  },
  {
   "cell_type": "code",
   "execution_count": 11,
   "metadata": {},
   "outputs": [
    {
     "data": {
      "text/plain": [
       "'sci.space'"
      ]
     },
     "execution_count": 11,
     "metadata": {},
     "output_type": "execute_result"
    }
   ],
   "source": [
    "twenty_sci_news.target_names[twenty_sci_news.target[0]]"
   ]
  },
  {
   "cell_type": "code",
   "execution_count": 12,
   "metadata": {},
   "outputs": [
    {
     "data": {
      "text/plain": [
       "(1187, 25638)"
      ]
     },
     "execution_count": 12,
     "metadata": {},
     "output_type": "execute_result"
    }
   ],
   "source": [
    "from sklearn.feature_extraction.text import CountVectorizer\n",
    "count_vect = CountVectorizer()\n",
    "word_count = count_vect.fit_transform(twenty_sci_news.data)\n",
    "word_count.shape"
   ]
  },
  {
   "cell_type": "code",
   "execution_count": 13,
   "metadata": {},
   "outputs": [
    {
     "data": {
      "text/plain": [
       "<1x25638 sparse matrix of type '<class 'numpy.int64'>'\n",
       "\twith 74 stored elements in Compressed Sparse Row format>"
      ]
     },
     "execution_count": 13,
     "metadata": {},
     "output_type": "execute_result"
    }
   ],
   "source": [
    "word_count[0]"
   ]
  },
  {
   "cell_type": "code",
   "execution_count": 14,
   "metadata": {},
   "outputs": [
    {
     "name": "stdout",
     "output_type": "stream",
     "text": [
      "Word fred appears 1 times\n",
      "Word twilight appears 1 times\n",
      "Word evening appears 1 times\n",
      "Word in appears 1 times\n",
      "Word presence appears 1 times\n",
      "Word its appears 1 times\n",
      "Word blare appears 1 times\n",
      "Word freely appears 1 times\n",
      "Word may appears 1 times\n",
      "Word god appears 1 times\n",
      "Word blessed appears 1 times\n",
      "Word is appears 1 times\n",
      "Word profiting appears 1 times\n",
      "Word right appears 1 times\n",
      "Word priesthood appears 1 times\n",
      "Word and appears 2 times\n",
      "Word farming appears 1 times\n",
      "Word caste appears 3 times\n",
      "Word warrior appears 1 times\n",
      "Word practiced appears 1 times\n",
      "Word those appears 1 times\n",
      "Word than appears 1 times\n",
      "Word activities appears 1 times\n",
      "Word human appears 1 times\n",
      "Word more appears 1 times\n",
      "Word are appears 1 times\n",
      "Word there appears 1 times\n",
      "Word that appears 1 times\n",
      "Word remember appears 1 times\n",
      "Word to appears 1 times\n",
      "Word try appears 1 times\n",
      "Word please appears 1 times\n",
      "Word age appears 1 times\n",
      "Word bronze appears 1 times\n",
      "Word isn appears 1 times\n",
      "Word this appears 1 times\n",
      "Word finally appears 1 times\n",
      "Word usl appears 1 times\n",
      "Word cacs appears 1 times\n",
      "Word srl03 appears 1 times\n",
      "Word pgf appears 1 times\n",
      "Word fraering appears 1 times\n",
      "Word phil appears 1 times\n",
      "Word 12 appears 1 times\n",
      "Word lines appears 1 times\n",
      "Word sci appears 1 times\n",
      "Word distribution appears 1 times\n",
      "Word edu appears 2 times\n",
      "Word cmu appears 1 times\n",
      "Word cs appears 1 times\n",
      "Word venari appears 1 times\n",
      "Word vacation appears 1 times\n",
      "Word isu appears 1 times\n",
      "Word sender appears 1 times\n",
      "Word original appears 1 times\n",
      "Word university appears 1 times\n",
      "Word international appears 1 times\n",
      "Word via appears 1 times\n",
      "Word organization appears 1 times\n",
      "Word digest appears 1 times\n",
      "Word space appears 2 times\n",
      "Word by appears 3 times\n",
      "Word forwarded appears 1 times\n",
      "Word added appears 1 times\n",
      "Word sky appears 1 times\n",
      "Word the appears 7 times\n",
      "Word vandalizing appears 1 times\n",
      "Word subject appears 1 times\n",
      "Word tm appears 2 times\n",
      "Word baube appears 2 times\n",
      "Word fi appears 1 times\n",
      "Word optiplan appears 1 times\n",
      "Word flb appears 2 times\n",
      "Word from appears 2 times\n"
     ]
    }
   ],
   "source": [
    "word_list = count_vect.get_feature_names()\n",
    "for n in word_count[0].indices:\n",
    "    print('Word %s appears %i times' %(word_list[n], word_count[0, n]))"
   ]
  },
  {
   "cell_type": "code",
   "execution_count": 15,
   "metadata": {},
   "outputs": [
    {
     "name": "stdout",
     "output_type": "stream",
     "text": [
      "Word fred has frequency 0.011\n",
      "Word twilight has frequency 0.011\n",
      "Word evening has frequency 0.011\n",
      "Word in has frequency 0.011\n",
      "Word presence has frequency 0.011\n",
      "Word its has frequency 0.011\n",
      "Word blare has frequency 0.011\n",
      "Word freely has frequency 0.011\n",
      "Word may has frequency 0.011\n",
      "Word god has frequency 0.011\n",
      "Word blessed has frequency 0.011\n",
      "Word is has frequency 0.011\n",
      "Word profiting has frequency 0.011\n",
      "Word right has frequency 0.011\n",
      "Word priesthood has frequency 0.011\n",
      "Word and has frequency 0.022\n",
      "Word farming has frequency 0.011\n",
      "Word caste has frequency 0.033\n",
      "Word warrior has frequency 0.011\n",
      "Word practiced has frequency 0.011\n",
      "Word those has frequency 0.011\n",
      "Word than has frequency 0.011\n",
      "Word activities has frequency 0.011\n",
      "Word human has frequency 0.011\n",
      "Word more has frequency 0.011\n",
      "Word are has frequency 0.011\n",
      "Word there has frequency 0.011\n",
      "Word that has frequency 0.011\n",
      "Word remember has frequency 0.011\n",
      "Word to has frequency 0.011\n",
      "Word try has frequency 0.011\n",
      "Word please has frequency 0.011\n",
      "Word age has frequency 0.011\n",
      "Word bronze has frequency 0.011\n",
      "Word isn has frequency 0.011\n",
      "Word this has frequency 0.011\n",
      "Word finally has frequency 0.011\n",
      "Word usl has frequency 0.011\n",
      "Word cacs has frequency 0.011\n",
      "Word srl03 has frequency 0.011\n",
      "Word pgf has frequency 0.011\n",
      "Word fraering has frequency 0.011\n",
      "Word phil has frequency 0.011\n",
      "Word 12 has frequency 0.011\n",
      "Word lines has frequency 0.011\n",
      "Word sci has frequency 0.011\n",
      "Word distribution has frequency 0.011\n",
      "Word edu has frequency 0.022\n",
      "Word cmu has frequency 0.011\n",
      "Word cs has frequency 0.011\n",
      "Word venari has frequency 0.011\n",
      "Word vacation has frequency 0.011\n",
      "Word isu has frequency 0.011\n",
      "Word sender has frequency 0.011\n",
      "Word original has frequency 0.011\n",
      "Word university has frequency 0.011\n",
      "Word international has frequency 0.011\n",
      "Word via has frequency 0.011\n",
      "Word organization has frequency 0.011\n",
      "Word digest has frequency 0.011\n",
      "Word space has frequency 0.022\n",
      "Word by has frequency 0.033\n",
      "Word forwarded has frequency 0.011\n",
      "Word added has frequency 0.011\n",
      "Word sky has frequency 0.011\n",
      "Word the has frequency 0.077\n",
      "Word vandalizing has frequency 0.011\n",
      "Word subject has frequency 0.011\n",
      "Word tm has frequency 0.022\n",
      "Word baube has frequency 0.022\n",
      "Word fi has frequency 0.011\n",
      "Word optiplan has frequency 0.011\n",
      "Word flb has frequency 0.022\n",
      "Word from has frequency 0.022\n"
     ]
    }
   ],
   "source": [
    "from sklearn.feature_extraction.text import TfidfVectorizer\n",
    "tf_vect = TfidfVectorizer(use_idf=False, norm='l1')\n",
    "word_freq = tf_vect.fit_transform(twenty_sci_news.data)\n",
    "word_list = tf_vect.get_feature_names()\n",
    "for n in word_freq[0].indices:\n",
    "    print('Word %s has frequency %0.3f'% (word_list[n], word_freq[0, n]))"
   ]
  },
  {
   "cell_type": "code",
   "execution_count": 16,
   "metadata": {},
   "outputs": [
    {
     "name": "stdout",
     "output_type": "stream",
     "text": [
      "Word %s has tf-idf %0.3\n",
      "Word %s has tf-idf %0.3\n",
      "Word %s has tf-idf %0.3\n",
      "Word %s has tf-idf %0.3\n",
      "Word %s has tf-idf %0.3\n",
      "Word %s has tf-idf %0.3\n",
      "Word %s has tf-idf %0.3\n",
      "Word %s has tf-idf %0.3\n",
      "Word %s has tf-idf %0.3\n",
      "Word %s has tf-idf %0.3\n",
      "Word %s has tf-idf %0.3\n",
      "Word %s has tf-idf %0.3\n",
      "Word %s has tf-idf %0.3\n",
      "Word %s has tf-idf %0.3\n",
      "Word %s has tf-idf %0.3\n",
      "Word %s has tf-idf %0.3\n",
      "Word %s has tf-idf %0.3\n",
      "Word %s has tf-idf %0.3\n",
      "Word %s has tf-idf %0.3\n",
      "Word %s has tf-idf %0.3\n",
      "Word %s has tf-idf %0.3\n",
      "Word %s has tf-idf %0.3\n",
      "Word %s has tf-idf %0.3\n",
      "Word %s has tf-idf %0.3\n",
      "Word %s has tf-idf %0.3\n",
      "Word %s has tf-idf %0.3\n",
      "Word %s has tf-idf %0.3\n",
      "Word %s has tf-idf %0.3\n",
      "Word %s has tf-idf %0.3\n",
      "Word %s has tf-idf %0.3\n",
      "Word %s has tf-idf %0.3\n",
      "Word %s has tf-idf %0.3\n",
      "Word %s has tf-idf %0.3\n",
      "Word %s has tf-idf %0.3\n",
      "Word %s has tf-idf %0.3\n",
      "Word %s has tf-idf %0.3\n",
      "Word %s has tf-idf %0.3\n",
      "Word %s has tf-idf %0.3\n",
      "Word %s has tf-idf %0.3\n",
      "Word %s has tf-idf %0.3\n",
      "Word %s has tf-idf %0.3\n",
      "Word %s has tf-idf %0.3\n",
      "Word %s has tf-idf %0.3\n",
      "Word %s has tf-idf %0.3\n",
      "Word %s has tf-idf %0.3\n",
      "Word %s has tf-idf %0.3\n",
      "Word %s has tf-idf %0.3\n",
      "Word %s has tf-idf %0.3\n",
      "Word %s has tf-idf %0.3\n",
      "Word %s has tf-idf %0.3\n",
      "Word %s has tf-idf %0.3\n",
      "Word %s has tf-idf %0.3\n",
      "Word %s has tf-idf %0.3\n",
      "Word %s has tf-idf %0.3\n",
      "Word %s has tf-idf %0.3\n",
      "Word %s has tf-idf %0.3\n",
      "Word %s has tf-idf %0.3\n",
      "Word %s has tf-idf %0.3\n",
      "Word %s has tf-idf %0.3\n",
      "Word %s has tf-idf %0.3\n",
      "Word %s has tf-idf %0.3\n",
      "Word %s has tf-idf %0.3\n",
      "Word %s has tf-idf %0.3\n",
      "Word %s has tf-idf %0.3\n",
      "Word %s has tf-idf %0.3\n",
      "Word %s has tf-idf %0.3\n",
      "Word %s has tf-idf %0.3\n",
      "Word %s has tf-idf %0.3\n",
      "Word %s has tf-idf %0.3\n",
      "Word %s has tf-idf %0.3\n",
      "Word %s has tf-idf %0.3\n",
      "Word %s has tf-idf %0.3\n",
      "Word %s has tf-idf %0.3\n",
      "Word %s has tf-idf %0.3\n"
     ]
    }
   ],
   "source": [
    "tfidf_vect = TfidfVectorizer()\n",
    "word_tfidf = tfidf_vect.fit_transform(twenty_sci_news.data)\n",
    "word_list = tfidf_vect.get_feature_names()\n",
    "for n in word_tfidf[0].indices:\n",
    "    print('Word %s has tf-idf %0.3')"
   ]
  },
  {
   "cell_type": "markdown",
   "metadata": {},
   "source": [
    "## Beautiful soup"
   ]
  },
  {
   "cell_type": "code",
   "execution_count": 17,
   "metadata": {},
   "outputs": [
    {
     "data": {
      "text/plain": [
       "200"
      ]
     },
     "execution_count": 17,
     "metadata": {},
     "output_type": "execute_result"
    }
   ],
   "source": [
    "import urllib.request\n",
    "url = 'https://en.wikipedia.org/wiki/William_Shakespeare'\n",
    "request = urllib.request.Request(url)\n",
    "response = urllib.request.urlopen(request)\n",
    "\n",
    "response.status"
   ]
  },
  {
   "cell_type": "code",
   "execution_count": 18,
   "metadata": {},
   "outputs": [
    {
     "data": {
      "text/plain": [
       "<title>William Shakespeare - Wikipedia</title>"
      ]
     },
     "execution_count": 18,
     "metadata": {},
     "output_type": "execute_result"
    }
   ],
   "source": [
    "from bs4 import BeautifulSoup\n",
    "soup = BeautifulSoup(response, 'html.parser')\n",
    "soup.title"
   ]
  },
  {
   "cell_type": "code",
   "execution_count": 19,
   "metadata": {},
   "outputs": [
    {
     "name": "stdout",
     "output_type": "stream",
     "text": [
      "Category:Sonnets by William Shakespeare -> /wiki/Category:Sonnets_by_William_Shakespeare\n",
      "Category:William Shakespeare -> /wiki/Category:William_Shakespeare\n",
      "Category:1564 births -> /wiki/Category:1564_births\n",
      "Category:1616 deaths -> /wiki/Category:1616_deaths\n",
      "Category:16th-century English male actors -> /wiki/Category:16th-century_English_male_actors\n",
      "Category:English male stage actors -> /wiki/Category:English_male_stage_actors\n",
      "Category:16th-century English writers -> /wiki/Category:16th-century_English_writers\n",
      "Category:17th-century English writers -> /wiki/Category:17th-century_English_writers\n",
      "Category:16th-century dramatists and playwrights -> /wiki/Category:16th-century_dramatists_and_playwrights\n",
      "Category:17th-century English dramatists and playwrights -> /wiki/Category:17th-century_English_dramatists_and_playwrights\n",
      "Category:16th-century English poets -> /wiki/Category:16th-century_English_poets\n",
      "Category:Burials in Warwickshire -> /wiki/Category:Burials_in_Warwickshire\n",
      "Category:17th-century English poets -> /wiki/Category:17th-century_English_poets\n",
      "Category:English Renaissance dramatists -> /wiki/Category:English_Renaissance_dramatists\n",
      "Category:English male writers -> /wiki/Category:English_male_writers\n",
      "Category:People educated at King Edward VI School, Stratford-upon-Avon -> /wiki/Category:People_educated_at_King_Edward_VI_School,_Stratford-upon-Avon\n",
      "Category:People from Stratford-upon-Avon -> /wiki/Category:People_from_Stratford-upon-Avon\n",
      "Category:People of the Elizabethan era -> /wiki/Category:People_of_the_Elizabethan_era\n",
      "Category:People of the Stuart period -> /wiki/Category:People_of_the_Stuart_period\n",
      "Category:Shakespeare family -> /wiki/Category:Shakespeare_family\n",
      "Category:Sonneteers -> /wiki/Category:Sonneteers\n",
      "Category:King's Men (playing company) -> /wiki/Category:King%27s_Men_(playing_company)\n",
      "Category:17th-century English male actors -> /wiki/Category:17th-century_English_male_actors\n",
      "Category:English male dramatists and playwrights -> /wiki/Category:English_male_dramatists_and_playwrights\n",
      "Category:English male poets -> /wiki/Category:English_male_poets\n"
     ]
    }
   ],
   "source": [
    "section = soup.find_all(id='mw-normal-catlinks')[0]\n",
    "for catlink in section.find_all(\"a\")[1:]:\n",
    "    print(catlink.get(\"title\"), \"->\", catlink.get(\"href\"))"
   ]
  },
  {
   "cell_type": "code",
   "execution_count": null,
   "metadata": {},
   "outputs": [],
   "source": []
  }
 ],
 "metadata": {
  "kernelspec": {
   "display_name": "Python 3",
   "language": "python",
   "name": "python3"
  },
  "language_info": {
   "codemirror_mode": {
    "name": "ipython",
    "version": 3
   },
   "file_extension": ".py",
   "mimetype": "text/x-python",
   "name": "python",
   "nbconvert_exporter": "python",
   "pygments_lexer": "ipython3",
   "version": "3.6.3"
  }
 },
 "nbformat": 4,
 "nbformat_minor": 2
}
